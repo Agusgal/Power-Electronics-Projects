{
  "nbformat": 4,
  "nbformat_minor": 0,
  "metadata": {
    "colab": {
      "name": "HalfBridgeTrafo.ipynb",
      "provenance": []
    },
    "kernelspec": {
      "name": "python3",
      "display_name": "Python 3"
    },
    "language_info": {
      "name": "python"
    }
  },
  "cells": [
    {
      "cell_type": "markdown",
      "source": [
        "## **Cálculo del transformador**"
      ],
      "metadata": {
        "id": "MMcNmdpy9ZQu"
      }
    },
    {
      "cell_type": "code",
      "execution_count": 8,
      "metadata": {
        "colab": {
          "base_uri": "https://localhost:8080/"
        },
        "id": "fws-GFtJ9Vve",
        "outputId": "4069ce0a-480d-4940-df58-887bb9304955"
      },
      "outputs": [
        {
          "output_type": "stream",
          "name": "stdout",
          "text": [
            "143008.78944489147\n",
            "N1/N2: 0.013999999999999999\n",
            "N2/N1: 71.42857142857143\n"
          ]
        }
      ],
      "source": [
        "import math\n",
        "import numpy as np\n",
        "\n",
        "le = 124e-3\n",
        "u0 = math.pi * 4e-7\n",
        "ur = 2000\n",
        "Ae= 353e-6\n",
        "Amin = 345e-6\n",
        "f = 50000\n",
        "T = 1/f\n",
        "D = 0.7\n",
        "Vo = 300\n",
        "Vin = 12\n",
        "Bsat = 400e-3 # Peor caso datasheet.\n",
        "J = 4e6\n",
        "kw = 0.4\n",
        "Aw = 375.55e-6\n",
        "\n",
        "min_diam_cable = 0.25e-3\n",
        "\n",
        "Re = le/(u0*ur*Amin)\n",
        "print(Re)\n",
        "Al = 1/Re\n",
        "\n",
        "V_N1 = Vin/2\n",
        "V_N2 = Vo / D\n",
        "\n",
        "\n",
        "### Del notebook del inductor\n",
        "I1 = 3.25\n",
        "\n",
        "ratio_N1_N2 = V_N1/V_N2\n",
        "print(\"N1/N2: \" + str(ratio_N1_N2))\n",
        "print(\"N2/N1: \" + str(1/ratio_N1_N2))\n"
      ]
    },
    {
      "cell_type": "code",
      "source": [
        "### N1 minimo por Bsat\n",
        "N1_min = 1/2 * Vin/2 * T * D/2 / (Amin * Bsat * 2)\n",
        "N1_min = math.ceil(N1_min)\n",
        "print(\"N1 min: \" + str(N1_min))"
      ],
      "metadata": {
        "colab": {
          "base_uri": "https://localhost:8080/"
        },
        "id": "UdAGoYepA6ue",
        "outputId": "7926babd-4093-4512-c2d9-3f90b8d18ce4"
      },
      "execution_count": 9,
      "outputs": [
        {
          "output_type": "stream",
          "name": "stdout",
          "text": [
            "N1 min: 1\n"
          ]
        }
      ]
    },
    {
      "cell_type": "code",
      "source": [
        "######### Chequeo N1 min #############\n",
        "\n",
        "#### Minima corriente inductor filtro.\n",
        "Lf = 0.0072503 # H\n",
        "Ilf_med = 0.13  # A\n",
        "delta_Ilf = Vo * (1-D) * T/2 / Lf\n",
        "Ilf_min = Ilf_med - delta_Ilf/2\n",
        "print(\"Ilf_min: \" + str(Ilf_min))\n",
        "\n",
        "#### I mag secundario\n",
        "def calc_Imag2(N1):\n",
        "  return Vin / 2 * T * D/2 * ratio_N1_N2 / (N1_min**2 * Al)\n",
        "\n",
        "Imag_2_initial = calc_Imag2(N1_min)\n",
        "print(\"Imag_2_initial: \" + str(Imag_2_initial))\n",
        "\n",
        "Imag_2 = Imag_2_initial\n",
        "while (Imag_2 > Ilf_min):\n",
        "  N1_min+=1\n",
        "  Imag_2 = calc_Imag2(N1_min)\n",
        "  \n",
        "print(\"Imag_2: \" + str(Imag_2))\n",
        "print(\"\\nN1_min: \" + str(N1_min))\n",
        "\n",
        "\n"
      ],
      "metadata": {
        "colab": {
          "base_uri": "https://localhost:8080/"
        },
        "id": "D3y2GG2DFlOU",
        "outputId": "4f8f5171-8cad-410e-9a14-36c87f4380c3"
      },
      "execution_count": 10,
      "outputs": [
        {
          "output_type": "stream",
          "name": "stdout",
          "text": [
            "Ilf_min: 0.06793360274747251\n",
            "Imag_2_initial: 0.0840891681935962\n",
            "Imag_2: 0.02102229204839905\n",
            "\n",
            "N1_min: 2\n"
          ]
        }
      ]
    },
    {
      "cell_type": "markdown",
      "source": [
        "Ahora vamos a revisar si con ese numero de vueltas el ancho del cable nos alcanza."
      ],
      "metadata": {
        "id": "xqvvJ4LdOBhh"
      }
    },
    {
      "cell_type": "code",
      "source": [
        "skin = 66e-3/math.sqrt(f)\n",
        "\n",
        "if (min_diam_cable < 2*skin):\n",
        "  print(\"Se desprecia el efecto skin.\")\n",
        "\n",
        "#### Limite por J.\n",
        "\n",
        "N1_max = (J * Aw * kw) / (I1 * 2)\n",
        "\n",
        "N2_max = (J * Aw * kw) / (I1 * ratio_N1_N2 * 2)\n",
        "\n",
        "#### Limite por area.\n",
        "\n",
        "Scu2 = I1 * ratio_N1_N2 / J\n",
        "diam_Scu = math.sqrt(Scu2 * 4 / math.pi) #Diametro cobre\n",
        "\n",
        "Scu_min_diam = (min_diam_cable ** 2) * math.pi / 4\n",
        "N_max_scu2 = math.floor(Aw * 0.7 * kw / Scu_min_diam) \n",
        "\n",
        "N2_max_final = N_max_scu2 if N_max_scu2 < N2_max else N2_max\n",
        "\n",
        "N1_max_final = N2_max_final * ratio_N1_N2\n",
        "\n",
        "print(\"Vueltas primario max: \" + str(math.floor(N1_max_final)))\n",
        "print(\"Vueltas secundario max: \" + str(N2_max_final))"
      ],
      "metadata": {
        "colab": {
          "base_uri": "https://localhost:8080/"
        },
        "id": "taZpuErPOAYW",
        "outputId": "7cb23cec-e3f3-4070-de04-2a3735cf13d6"
      },
      "execution_count": 11,
      "outputs": [
        {
          "output_type": "stream",
          "name": "stdout",
          "text": [
            "Se desprecia el efecto skin.\n",
            "Vueltas primario max: 29\n",
            "Vueltas secundario max: 2142\n"
          ]
        }
      ]
    },
    {
      "cell_type": "code",
      "source": [
        "### Se fija N1 < N1_max_final\n",
        "N1 = 2100"
      ],
      "metadata": {
        "id": "jQrJmRiuTR4U"
      },
      "execution_count": 12,
      "outputs": []
    },
    {
      "cell_type": "code",
      "source": [
        "L1 = (N1*ratio_N1_N2)**2 / Re\n",
        "L2 = (N1) **2 / Re"
      ],
      "metadata": {
        "id": "0wmhCFvwbS6L"
      },
      "execution_count": 13,
      "outputs": []
    },
    {
      "cell_type": "markdown",
      "source": [
        "Calculo del capacitor de la Buck"
      ],
      "metadata": {
        "id": "GpYPW_RIWMEg"
      }
    },
    {
      "cell_type": "code",
      "source": [
        "C = delta_Ilf / (8*0.05*Vo*f)\n",
        "\n",
        "print(\"El valor del capacitor es: \" + str(C))\n",
        "print(\"L1 \" + str(L1))\n",
        "print(\"L2 \" + str(L2))\n",
        "\n",
        "print(\"L2/L1: \" + str(int(L2/L1)))\n",
        "print(\"N2/N1: \" + str(1/ratio_N1_N2))"
      ],
      "metadata": {
        "colab": {
          "base_uri": "https://localhost:8080/"
        },
        "id": "ScnmD7OIWPZy",
        "outputId": "52939ccd-f3ef-41a5-c611-55fdc80ac991"
      },
      "execution_count": 14,
      "outputs": [
        {
          "output_type": "stream",
          "name": "stdout",
          "text": [
            "El valor del capacitor es: 2.068879908417583e-08\n",
            "L1 0.006044104025739492\n",
            "L2 30.83726543744639\n",
            "L2/L1: 5102\n",
            "N2/N1: 71.42857142857143\n"
          ]
        }
      ]
    }
  ]
}