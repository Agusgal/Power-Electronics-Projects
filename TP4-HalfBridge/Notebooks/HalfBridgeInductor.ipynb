{
  "nbformat": 4,
  "nbformat_minor": 0,
  "metadata": {
    "colab": {
      "name": "HalfBridgeInductor.ipynb",
      "provenance": [],
      "collapsed_sections": []
    },
    "kernelspec": {
      "name": "python3",
      "display_name": "Python 3"
    },
    "language_info": {
      "name": "python"
    }
  },
  "cells": [
    {
      "cell_type": "markdown",
      "source": [
        "## **Cálculo del inductor**\n",
        "\n"
      ],
      "metadata": {
        "id": "BO5munbI8ESd"
      }
    },
    {
      "cell_type": "code",
      "execution_count": 1,
      "metadata": {
        "colab": {
          "base_uri": "https://localhost:8080/"
        },
        "id": "m4E6a5RNhQKr",
        "outputId": "64490bf9-9c68-42f8-beab-c271250fb04e"
      },
      "outputs": [
        {
          "output_type": "stream",
          "name": "stdout",
          "text": [
            "231851.65581996032\n"
          ]
        }
      ],
      "source": [
        "import math\n",
        "import numpy as np\n",
        "\n",
        "le = 77.5e-3\n",
        "u0 = math.pi * 4e-7\n",
        "ur = 2000\n",
        "Ae = 143e-6\n",
        "Amin = 133e-6\n",
        "f = 50000\n",
        "T = 1/f\n",
        "D = 0.7\n",
        "Vo = 300\n",
        "Vin = 12\n",
        "Bsat = 400e-3 # Peor caso datasheet.\n",
        "J = 4e6\n",
        "kw = 0.4\n",
        "Aw = 347.2875e-6\n",
        "\n",
        "Re = le/(u0*ur*Amin)\n",
        "print(Re)\n",
        "\n",
        "\n",
        "def calculate_params(N, Po):\n",
        "  L = N**2 / Re\n",
        "\n",
        "  ########## I med ##########\n",
        "\n",
        "  Imed = Po / Vo # Corriente media\n",
        "\n",
        "  ########## B sat ##########\n",
        "\n",
        "  Bac = 0.5 * Vo * (1-D) * (T/2) / (N * Amin)\n",
        "\n",
        "  Bdc = N * Imed / (Re * Amin)\n",
        "\n",
        "  Bmax = Bac + Bdc\n",
        "\n",
        "  if(Bmax > Bsat):\n",
        "    ##print(\"Saturacion\")\n",
        "    return 0\n",
        "\n",
        "  ######### Delta IL #############\n",
        "\n",
        "  delta_il = Vo * (1-D) * T/2 / L\n",
        "\n",
        "  if (delta_il/2 > Imed * 0.5):\n",
        "    ##print(\"Discotinuo\")\n",
        "    return 0\n",
        "\n",
        "  ######### Max Il ##############\n",
        "\n",
        "  max_il = Imed + delta_il/2 ## Corriente maxima en la bobina.\n",
        "\n",
        "\n",
        "  ######### Check imax cable ##########\n",
        "\n",
        "  Scu = Aw * kw / N # Area cobre\n",
        "  diam_Scu = math.sqrt(Scu * 4 / math.pi) #Diametro cobre\n",
        "\n",
        "  Sskin = math.pi*((diam_Scu*diam_Scu/4)-(66e-3*66e-3/f)) #Area skin\n",
        "\n",
        "  Scuef = Scu - Sskin #Area de cobre efectiva maxima\n",
        "  imax_cu = J * Scu # Corriente maxima que soporta la area de cobre\n",
        "\n",
        "  if (max_il > imax_cu):\n",
        "    ##print(\"Limite corriente cable.\")\n",
        "    return 0\n",
        "\n",
        "  #print(\"\\n\\nVamos\")\n",
        "  #print(\"Imed: \" + str(Imed))\n",
        "  #print(\"Po: \" + str(Po))\n",
        "  #print(\"N: \" + str(N))\n",
        "\n",
        "  return Imed\n"
      ]
    },
    {
      "cell_type": "code",
      "source": [
        "watts = np.arange(100)\n",
        "I_meds = []\n",
        "Ns = np.arange(100)\n",
        "\n",
        "for watt in watts:\n",
        "  watt_arr_i = []\n",
        "  for N in Ns:\n",
        "    i = calculate_params(N, watt)\n",
        "    watt_arr_i.append(i)\n",
        "  I_meds.append(watt_arr_i)\n",
        "\n",
        "I_meds = np.array(I_meds)"
      ],
      "metadata": {
        "id": "fEBz_dUiGR0q"
      },
      "execution_count": null,
      "outputs": []
    },
    {
      "cell_type": "code",
      "source": [
        "index = np.unravel_index(np.argmax(I_meds), np.array(I_meds).shape)\n",
        "\n",
        "I_selected = I_meds.max()\n",
        "Po_selected = watts[index[0]]\n",
        "N_selected = Ns[index[1]]\n",
        "L_selected = N_selected**2 / Re\n",
        "\n",
        "print(\"Imed_max: \" + str(I_selected) + \" A\")\n",
        "print(\"Po: \" + str(Po_selected) + \" W\")\n",
        "print(\"N: \" + str(N_selected) )\n",
        "print(\"L: \" + str(L_selected) + \" H\")\n",
        "delta_il = Vo * (1-D) * T/2 / L_selected\n",
        "print(\"delta_I: \" + str(delta_il) + \" A\")\n",
        "\n",
        "print(\"continuous_mode_delta: \" + str(I_selected - delta_il / 2) + \"A\")\n",
        "\n",
        "print(\"R:\" + str(Vo**2/Po_selected)+ \" ohm\")\n",
        "\n",
        "print(\"Iin: \" + str(Po_selected/Vin)+ \" A\")"
      ],
      "metadata": {
        "colab": {
          "base_uri": "https://localhost:8080/"
        },
        "id": "JedJ8WLQ_ZC5",
        "outputId": "55e26d8d-e21f-4360-e1ac-4f16f46238ea"
      },
      "execution_count": 4,
      "outputs": [
        {
          "output_type": "stream",
          "name": "stdout",
          "text": [
            "Imed_max: 0.13 A\n",
            "Po: 39 W\n",
            "N: 41\n",
            "L: 0.007250325619004189 H\n",
            "delta_I: 0.12413235588219175 A\n",
            "continuous_mode_delta: 0.06793382205890414A\n",
            "R:2307.6923076923076 ohm\n",
            "Iin: 3.25 A\n"
          ]
        }
      ]
    },
    {
      "cell_type": "code",
      "source": [
        "watts = np.arange(100)\n",
        "I_meds = []\n",
        "Ns = np.arange(100)\n",
        "\n",
        "for watt in watts:\n",
        "  watt_arr_i = []\n",
        "  for N in Ns:\n",
        "    i = calculate_params(N, watt)\n",
        "    watt_arr_i.append(i)\n",
        "  I_meds.append(watt_arr_i)\n",
        "\n",
        "I_meds = np.array(I_meds)"
      ],
      "metadata": {
        "id": "SybXN3SlVL0J"
      },
      "execution_count": null,
      "outputs": []
    },
    {
      "cell_type": "code",
      "source": [
        "index = np.unravel_index(np.argmax(I_meds), np.array(I_meds).shape)\n",
        "\n",
        "I_selected = I_meds.max()\n",
        "Po_selected = watts[index[0]]\n",
        "N_selected = Ns[index[1]]\n",
        "L_selected = N_selected**2 / Re\n",
        "\n",
        "print(\"Imed_max: \" + str(I_selected) + \" A\")\n",
        "print(\"Po: \" + str(Po_selected) + \" W\")\n",
        "print(\"N: \" + str(N_selected) )\n",
        "print(\"L: \" + str(L_selected) + \" H\")\n",
        "delta_il = Vo * (1-D) * T/2 / L_selected\n",
        "print(\"delta_I: \" + str(delta_il) + \" A\")\n",
        "\n",
        "print(\"continuous_mode_delta: \" + str(I_selected - delta_il / 2) + \"A\")\n",
        "\n",
        "print(\"R:\" + str(Vo**2/Po_selected)+ \" ohm\")\n",
        "\n",
        "print(\"Iin: \" + str(Po_selected/Vin)+ \" A\")\n",
        "\n",
        "#Bac = 0.5 * Vo * (1-D) * (T/2) / (N_selected * Amin)\n",
        "\n",
        "#Bdc = N_selected * I_selected / (Re * Amin)"
      ],
      "metadata": {
        "colab": {
          "base_uri": "https://localhost:8080/"
        },
        "id": "dD6Je9kOVNoj",
        "outputId": "c07cb4ea-b21c-4cdd-894c-795c5ec19b52"
      },
      "execution_count": 6,
      "outputs": [
        {
          "output_type": "stream",
          "name": "stdout",
          "text": [
            "Imed_max: 0.32 A\n",
            "Po: 96 W\n",
            "N: 26\n",
            "L: 0.0029156574172794956 H\n",
            "delta_I: 0.3086782399969886 A\n",
            "continuous_mode_delta: 0.1656608800015057A\n",
            "R:937.5 ohm\n",
            "Iin: 8.0 A\n"
          ]
        }
      ]
    }
  ]
}